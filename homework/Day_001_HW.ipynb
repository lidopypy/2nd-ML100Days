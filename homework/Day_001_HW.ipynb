{
 "cells": [
  {
   "cell_type": "markdown",
   "metadata": {},
   "source": [
    "# 作業1：\n",
    "\n",
    "請上 Kaggle, 在 Competitions 或 Dataset 中找一組競賽或資料並寫下：\n",
    "\n",
    "[Google Landmark Recognition 2019](https://www.kaggle.com/c/landmark-recognition-2019)\n",
    "\n",
    "1. 你選的這組資料為何重要 :\n",
    "\n",
    "Ans : 地標識別研究的一個巨大障礙是缺乏大型標註數據集，在此資料集中，每個class僅有少數的標註數據集，而要如何使用這麼少的資料訓練出有效辨識地標的模型，是值得研究探討的。\n",
    "\n",
    "2. 資料從何而來 (tips: 譬如提供者是誰、以什麼方式蒐集)\n",
    "\n",
    "Ans : 資料由 google 提供，應該是以各地標景點拍攝的照片為data，地標為Label。\n",
    "\n",
    "3. 蒐集而來的資料型態為何\n",
    "\n",
    "Ans : 資料為 RGB 照片，像素大小皆不一致(有大有小)\n",
    "\n",
    "4. 這組資料想解決的問題如何評估\n",
    "\n",
    "Ans : 這是圖像分類問題，在圖像特徵提取方面是個重要的過程，可以嘗試使用不同的 model 做特徵提取，並結合各 model 的提取的特徵聯合辨識圖像。\n",
    "    圖像也可經由一系列變換，例如拉伸、旋轉、翻轉...等方式，讓 data 更豐富，增加模型對特徵的提取。\n",
    "\n",
    "\n",
    "# 作業2：\n",
    "\n",
    "**想像你經營一個自由載客車隊，你希望能透過數據分析以提升業績，請你思考並描述你如何規劃整體的分析/解決方案：\n",
    "\n",
    "1. 核心問題為何 (tips：如何定義 「提升業績 & 你的假設」)\n",
    "\n",
    "Ans : 核心問題  1.如何有效降低車手閒置時間? (閒置時間越少，相對收入越多)\n",
    "               2.乘客與車手的匹配優化(使車手載到下一位乘客機會提高)\n",
    "\n",
    "2. 資料從何而來 (tips：哪些資料可能會對你想問的問題產生影響 & 資料如何蒐集)\n",
    "\n",
    "Ans : 資料由歷史乘客上車地點/時間，下車地點/時間所記錄。\n",
    "        地點/時間是最基本的，也許天氣好壞(晴天、雨天)的因素也會影響叫車率。\n",
    "        資料可以藉由叫車APP蒐集，在APP內嵌資料蒐集系統，在叫車與付費同時將資料傳至後端做紀錄。\n",
    "\n",
    "3. 蒐集而來的資料型態為何\n",
    "\n",
    "Ans : 資料型態可以為結構化資料，紀錄乘客資訊、上(下)車地點/時間、天氣、司機資訊...等\n",
    "\n",
    "4. 你要回答的問題，其如何評估 (tips：你的假設如何驗證)\n",
    "\n",
    "Ans : 透過機器學習，建利模型預測乘客叫車地點，車手待命位置，優化匹配，以達到降低車手閒置時間。"
   ]
  },
  {
   "cell_type": "markdown",
   "metadata": {},
   "source": [
    "# 作業3：\n",
    "## 練習時間\n",
    "#### 請寫一個函式用來計算 Mean Square Error\n",
    "$ MSE = \\frac{1}{n}\\sum_{i=1}^{n}{(Y_i - \\hat{Y}_i)^2} $\n",
    "\n",
    "### Hint: [如何取平方](https://googoodesign.gitbooks.io/-ezpython/unit-1.html)"
   ]
  },
  {
   "cell_type": "code",
   "execution_count": null,
   "metadata": {},
   "outputs": [],
   "source": [
    "import numpy as np\n",
    "import matplotlib.pyplot as plt"
   ]
  },
  {
   "cell_type": "code",
   "execution_count": null,
   "metadata": {},
   "outputs": [],
   "source": [
    "def mean_squared_error(y,y_hat):\n",
    "    mse = sum((y - y_hat)**2)/len(y)\n",
    "    return mse\n",
    "\n",
    "def mean_absolute_error(y,y_hat):\n",
    "    mae = sum(abs(y - y_hat)) / len(y)\n",
    "    return mae"
   ]
  },
  {
   "cell_type": "code",
   "execution_count": null,
   "metadata": {},
   "outputs": [],
   "source": [
    "w = 3\n",
    "b = 0.5\n",
    "\n",
    "x_lin = np.linspace(0, 100, 101)\n",
    "\n",
    "y = (x_lin + np.random.randn(101) * 5) * w + b\n",
    "\n",
    "plt.plot(x_lin, y, 'b.', label = 'data points')\n",
    "plt.title(\"Assume we have data points\")\n",
    "plt.legend(loc = 2)\n",
    "plt.show()"
   ]
  },
  {
   "cell_type": "code",
   "execution_count": null,
   "metadata": {},
   "outputs": [],
   "source": [
    "y_hat = x_lin * w + b\n",
    "plt.plot(x_lin, y, 'b.', label = 'data')\n",
    "plt.plot(x_lin, y_hat, 'r-', label = 'prediction')\n",
    "plt.title(\"Assume we have data points (And the prediction)\")\n",
    "plt.legend(loc = 2)\n",
    "plt.show()"
   ]
  },
  {
   "cell_type": "code",
   "execution_count": null,
   "metadata": {},
   "outputs": [],
   "source": [
    "# 執行 Function, 確認有沒有正常執行\n",
    "MSE = mean_squared_error(y, y_hat)\n",
    "MAE = mean_absolute_error(y, y_hat)\n",
    "print(\"The Mean squared error is %.3f\" % (MSE))\n",
    "print(\"The Mean absolute error is %.3f\" % (MAE))"
   ]
  }
 ],
 "metadata": {
  "anaconda-cloud": {},
  "kernelspec": {
   "display_name": "Python [default]",
   "language": "python",
   "name": "python3"
  },
  "language_info": {
   "codemirror_mode": {
    "name": "ipython",
    "version": 3
   },
   "file_extension": ".py",
   "mimetype": "text/x-python",
   "name": "python",
   "nbconvert_exporter": "python",
   "pygments_lexer": "ipython3",
   "version": "3.5.6"
  }
 },
 "nbformat": 4,
 "nbformat_minor": 1
}
